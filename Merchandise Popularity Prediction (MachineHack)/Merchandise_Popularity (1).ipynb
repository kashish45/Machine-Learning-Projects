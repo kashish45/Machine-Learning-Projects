{
  "nbformat": 4,
  "nbformat_minor": 0,
  "metadata": {
    "colab": {
      "name": "Merchandise_Popularity.ipynb",
      "provenance": [],
      "collapsed_sections": [
        "ZF6hLsuTqbBt"
      ]
    },
    "kernelspec": {
      "display_name": "Python 3",
      "name": "python3"
    }
  },
  "cells": [
    {
      "cell_type": "code",
      "metadata": {
        "id": "71eKxkApVD1_"
      },
      "source": [
        "from google.colab import drive"
      ],
      "execution_count": null,
      "outputs": []
    },
    {
      "cell_type": "code",
      "metadata": {
        "id": "fP0tFzQcVi1s"
      },
      "source": [
        "#drive.mount('/content/drive')"
      ],
      "execution_count": null,
      "outputs": []
    },
    {
      "cell_type": "code",
      "metadata": {
        "id": "ELYwxL3pVkKw"
      },
      "source": [
        "import seaborn as sns\r\n",
        "import numpy as np\r\n",
        "from sklearn.metrics import log_loss\r\n",
        "import pandas as pd\r\n",
        "from scipy.stats import skew,kurtosis,zscore\r\n",
        "from sklearn.metrics import accuracy_score\r\n",
        "import matplotlib.pyplot as plt\r\n"
      ],
      "execution_count": null,
      "outputs": []
    },
    {
      "cell_type": "code",
      "metadata": {
        "id": "tZWUiggXVxUu"
      },
      "source": [
        "df = pd.read_csv(\"/content/drive/MyDrive/MPP_Dataset/Train.csv\")"
      ],
      "execution_count": null,
      "outputs": []
    },
    {
      "cell_type": "code",
      "metadata": {
        "colab": {
          "base_uri": "https://localhost:8080/",
          "height": 196
        },
        "id": "IzePLwqjV6qz",
        "outputId": "c4c1d6ba-8d5b-4a3c-ec58-07ddc7d6e54d"
      },
      "source": [
        "df.head(5)"
      ],
      "execution_count": null,
      "outputs": [
        {
          "output_type": "execute_result",
          "data": {
            "text/html": [
              "<div>\n",
              "<style scoped>\n",
              "    .dataframe tbody tr th:only-of-type {\n",
              "        vertical-align: middle;\n",
              "    }\n",
              "\n",
              "    .dataframe tbody tr th {\n",
              "        vertical-align: top;\n",
              "    }\n",
              "\n",
              "    .dataframe thead th {\n",
              "        text-align: right;\n",
              "    }\n",
              "</style>\n",
              "<table border=\"1\" class=\"dataframe\">\n",
              "  <thead>\n",
              "    <tr style=\"text-align: right;\">\n",
              "      <th></th>\n",
              "      <th>Store_Ratio</th>\n",
              "      <th>Basket_Ratio</th>\n",
              "      <th>Category_1</th>\n",
              "      <th>Store_Score</th>\n",
              "      <th>Category_2</th>\n",
              "      <th>Store_Presence</th>\n",
              "      <th>Score_1</th>\n",
              "      <th>Score_2</th>\n",
              "      <th>Score_3</th>\n",
              "      <th>Score_4</th>\n",
              "      <th>time</th>\n",
              "      <th>popularity</th>\n",
              "    </tr>\n",
              "  </thead>\n",
              "  <tbody>\n",
              "    <tr>\n",
              "      <th>0</th>\n",
              "      <td>0.407</td>\n",
              "      <td>0.00380</td>\n",
              "      <td>2</td>\n",
              "      <td>-35.865</td>\n",
              "      <td>1</td>\n",
              "      <td>0.9920</td>\n",
              "      <td>0.944</td>\n",
              "      <td>0.0988</td>\n",
              "      <td>0.1100</td>\n",
              "      <td>113.911</td>\n",
              "      <td>189125</td>\n",
              "      <td>4</td>\n",
              "    </tr>\n",
              "    <tr>\n",
              "      <th>1</th>\n",
              "      <td>0.234</td>\n",
              "      <td>0.10500</td>\n",
              "      <td>0</td>\n",
              "      <td>-19.884</td>\n",
              "      <td>1</td>\n",
              "      <td>0.9440</td>\n",
              "      <td>0.900</td>\n",
              "      <td>0.1290</td>\n",
              "      <td>0.0382</td>\n",
              "      <td>76.332</td>\n",
              "      <td>186513</td>\n",
              "      <td>4</td>\n",
              "    </tr>\n",
              "    <tr>\n",
              "      <th>2</th>\n",
              "      <td>0.668</td>\n",
              "      <td>0.72600</td>\n",
              "      <td>9</td>\n",
              "      <td>-7.512</td>\n",
              "      <td>1</td>\n",
              "      <td>0.0387</td>\n",
              "      <td>0.000</td>\n",
              "      <td>0.1340</td>\n",
              "      <td>0.4530</td>\n",
              "      <td>124.075</td>\n",
              "      <td>172143</td>\n",
              "      <td>4</td>\n",
              "    </tr>\n",
              "    <tr>\n",
              "      <th>3</th>\n",
              "      <td>0.184</td>\n",
              "      <td>0.00561</td>\n",
              "      <td>4</td>\n",
              "      <td>-34.357</td>\n",
              "      <td>1</td>\n",
              "      <td>0.8490</td>\n",
              "      <td>0.931</td>\n",
              "      <td>0.1110</td>\n",
              "      <td>0.0641</td>\n",
              "      <td>79.037</td>\n",
              "      <td>184000</td>\n",
              "      <td>5</td>\n",
              "    </tr>\n",
              "    <tr>\n",
              "      <th>4</th>\n",
              "      <td>0.231</td>\n",
              "      <td>0.13100</td>\n",
              "      <td>6</td>\n",
              "      <td>-22.842</td>\n",
              "      <td>1</td>\n",
              "      <td>0.9370</td>\n",
              "      <td>0.000</td>\n",
              "      <td>0.1090</td>\n",
              "      <td>0.0677</td>\n",
              "      <td>109.560</td>\n",
              "      <td>186507</td>\n",
              "      <td>3</td>\n",
              "    </tr>\n",
              "  </tbody>\n",
              "</table>\n",
              "</div>"
            ],
            "text/plain": [
              "   Store_Ratio  Basket_Ratio  Category_1  ...  Score_4    time  popularity\n",
              "0        0.407       0.00380           2  ...  113.911  189125           4\n",
              "1        0.234       0.10500           0  ...   76.332  186513           4\n",
              "2        0.668       0.72600           9  ...  124.075  172143           4\n",
              "3        0.184       0.00561           4  ...   79.037  184000           5\n",
              "4        0.231       0.13100           6  ...  109.560  186507           3\n",
              "\n",
              "[5 rows x 12 columns]"
            ]
          },
          "metadata": {
            "tags": []
          },
          "execution_count": 225
        }
      ]
    },
    {
      "cell_type": "code",
      "metadata": {
        "id": "orfiAePaH1rr"
      },
      "source": [
        "df['hour'] = pd.to_datetime(df['time'].astype(int), unit='s').dt.hour\r\n",
        "df['month'] = pd.to_datetime(df['time'].astype(int), unit='s').dt.month\r\n",
        "df['day'] = pd.to_datetime(df['time'].astype(int), unit='s').dt.day\r\n",
        "df['year'] = pd.to_datetime(df['time'].astype(int), unit='s').dt.year\r\n",
        "df['minute'] = pd.to_datetime(df['time'].astype(int), unit='s').dt.minute"
      ],
      "execution_count": null,
      "outputs": []
    },
    {
      "cell_type": "code",
      "metadata": {
        "colab": {
          "base_uri": "https://localhost:8080/",
          "height": 35
        },
        "id": "3Yam7UMU_zFR",
        "outputId": "0066c4df-438b-4b77-d50b-647f81366c37"
      },
      "source": [
        "'''if df.week.all() < 5:\r\n",
        "\r\n",
        "  df['week'] = 0\r\n",
        "else:\r\n",
        "  df['week'] = 1'''"
      ],
      "execution_count": null,
      "outputs": [
        {
          "output_type": "execute_result",
          "data": {
            "application/vnd.google.colaboratory.intrinsic+json": {
              "type": "string"
            },
            "text/plain": [
              "\"if df.week.all() < 5:\\n\\n  df['week'] = 0\\nelse:\\n  df['week'] = 1\""
            ]
          },
          "metadata": {
            "tags": []
          },
          "execution_count": 227
        }
      ]
    },
    {
      "cell_type": "code",
      "metadata": {
        "colab": {
          "base_uri": "https://localhost:8080/",
          "height": 127
        },
        "id": "WutSykOD_tET",
        "outputId": "4cf25a02-a932-4d16-d7f3-911bf27a6b13"
      },
      "source": [
        "df.head(2)"
      ],
      "execution_count": null,
      "outputs": [
        {
          "output_type": "execute_result",
          "data": {
            "text/html": [
              "<div>\n",
              "<style scoped>\n",
              "    .dataframe tbody tr th:only-of-type {\n",
              "        vertical-align: middle;\n",
              "    }\n",
              "\n",
              "    .dataframe tbody tr th {\n",
              "        vertical-align: top;\n",
              "    }\n",
              "\n",
              "    .dataframe thead th {\n",
              "        text-align: right;\n",
              "    }\n",
              "</style>\n",
              "<table border=\"1\" class=\"dataframe\">\n",
              "  <thead>\n",
              "    <tr style=\"text-align: right;\">\n",
              "      <th></th>\n",
              "      <th>Store_Ratio</th>\n",
              "      <th>Basket_Ratio</th>\n",
              "      <th>Category_1</th>\n",
              "      <th>Store_Score</th>\n",
              "      <th>Category_2</th>\n",
              "      <th>Store_Presence</th>\n",
              "      <th>Score_1</th>\n",
              "      <th>Score_2</th>\n",
              "      <th>Score_3</th>\n",
              "      <th>Score_4</th>\n",
              "      <th>time</th>\n",
              "      <th>popularity</th>\n",
              "      <th>hour</th>\n",
              "      <th>month</th>\n",
              "      <th>day</th>\n",
              "      <th>year</th>\n",
              "      <th>minute</th>\n",
              "    </tr>\n",
              "  </thead>\n",
              "  <tbody>\n",
              "    <tr>\n",
              "      <th>0</th>\n",
              "      <td>0.407</td>\n",
              "      <td>0.0038</td>\n",
              "      <td>2</td>\n",
              "      <td>-35.865</td>\n",
              "      <td>1</td>\n",
              "      <td>0.992</td>\n",
              "      <td>0.944</td>\n",
              "      <td>0.0988</td>\n",
              "      <td>0.1100</td>\n",
              "      <td>113.911</td>\n",
              "      <td>189125</td>\n",
              "      <td>4</td>\n",
              "      <td>4</td>\n",
              "      <td>1</td>\n",
              "      <td>3</td>\n",
              "      <td>1970</td>\n",
              "      <td>32</td>\n",
              "    </tr>\n",
              "    <tr>\n",
              "      <th>1</th>\n",
              "      <td>0.234</td>\n",
              "      <td>0.1050</td>\n",
              "      <td>0</td>\n",
              "      <td>-19.884</td>\n",
              "      <td>1</td>\n",
              "      <td>0.944</td>\n",
              "      <td>0.900</td>\n",
              "      <td>0.1290</td>\n",
              "      <td>0.0382</td>\n",
              "      <td>76.332</td>\n",
              "      <td>186513</td>\n",
              "      <td>4</td>\n",
              "      <td>3</td>\n",
              "      <td>1</td>\n",
              "      <td>3</td>\n",
              "      <td>1970</td>\n",
              "      <td>48</td>\n",
              "    </tr>\n",
              "  </tbody>\n",
              "</table>\n",
              "</div>"
            ],
            "text/plain": [
              "   Store_Ratio  Basket_Ratio  Category_1  Store_Score  ...  month  day  year  minute\n",
              "0        0.407        0.0038           2      -35.865  ...      1    3  1970      32\n",
              "1        0.234        0.1050           0      -19.884  ...      1    3  1970      48\n",
              "\n",
              "[2 rows x 17 columns]"
            ]
          },
          "metadata": {
            "tags": []
          },
          "execution_count": 228
        }
      ]
    },
    {
      "cell_type": "code",
      "metadata": {
        "colab": {
          "base_uri": "https://localhost:8080/"
        },
        "id": "mLTHDi9RGHZo",
        "outputId": "e85fb2b3-4e45-48c3-d7e2-8b12f3cc5fad"
      },
      "source": [
        "df.info()"
      ],
      "execution_count": null,
      "outputs": [
        {
          "output_type": "stream",
          "text": [
            "<class 'pandas.core.frame.DataFrame'>\n",
            "RangeIndex: 18208 entries, 0 to 18207\n",
            "Data columns (total 17 columns):\n",
            " #   Column          Non-Null Count  Dtype  \n",
            "---  ------          --------------  -----  \n",
            " 0   Store_Ratio     18208 non-null  float64\n",
            " 1   Basket_Ratio    18208 non-null  float64\n",
            " 2   Category_1      18208 non-null  int64  \n",
            " 3   Store_Score     18208 non-null  float64\n",
            " 4   Category_2      18208 non-null  int64  \n",
            " 5   Store_Presence  18208 non-null  float64\n",
            " 6   Score_1         18208 non-null  float64\n",
            " 7   Score_2         18208 non-null  float64\n",
            " 8   Score_3         18208 non-null  float64\n",
            " 9   Score_4         18208 non-null  float64\n",
            " 10  time            18208 non-null  int64  \n",
            " 11  popularity      18208 non-null  int64  \n",
            " 12  hour            18208 non-null  int64  \n",
            " 13  month           18208 non-null  int64  \n",
            " 14  day             18208 non-null  int64  \n",
            " 15  year            18208 non-null  int64  \n",
            " 16  minute          18208 non-null  int64  \n",
            "dtypes: float64(8), int64(9)\n",
            "memory usage: 2.4 MB\n"
          ],
          "name": "stdout"
        }
      ]
    },
    {
      "cell_type": "code",
      "metadata": {
        "colab": {
          "base_uri": "https://localhost:8080/"
        },
        "id": "WwMsluQTV8F5",
        "outputId": "5c636cac-ebb8-4fc5-c1b2-deead7562f4f"
      },
      "source": [
        "df.skew()"
      ],
      "execution_count": null,
      "outputs": [
        {
          "output_type": "execute_result",
          "data": {
            "text/plain": [
              "Store_Ratio       -0.460388\n",
              "Basket_Ratio      -0.124140\n",
              "Category_1         0.040952\n",
              "Store_Score       -1.134367\n",
              "Category_2        -0.622149\n",
              "Store_Presence     0.111894\n",
              "Score_1            0.623296\n",
              "Score_2            2.863491\n",
              "Score_3            0.266906\n",
              "Score_4            0.385495\n",
              "time               8.680522\n",
              "popularity        -3.051638\n",
              "hour               0.036255\n",
              "month             95.407022\n",
              "day                3.704050\n",
              "year               0.000000\n",
              "minute             0.014676\n",
              "dtype: float64"
            ]
          },
          "metadata": {
            "tags": []
          },
          "execution_count": 230
        }
      ]
    },
    {
      "cell_type": "code",
      "metadata": {
        "id": "WbPfd8aqWlHG"
      },
      "source": [
        "def distribution_check(df,Cols):\r\n",
        "    plt.figure(figsize=(12,7))\r\n",
        "    fig = 1\r\n",
        "    i = (len(Cols)//3)+1\r\n",
        "    for col in Cols:\r\n",
        "        sk = \" Skewness : \" + str(skew(df[col])) +\"\\nKurtosis :\" + str(kurtosis(df[col]))\r\n",
        "        plt.subplot(i, 3, fig)\r\n",
        "        sns.distplot(df[col]).set_title(sk)\r\n",
        "        fig = fig+1"
      ],
      "execution_count": null,
      "outputs": []
    },
    {
      "cell_type": "code",
      "metadata": {
        "colab": {
          "base_uri": "https://localhost:8080/"
        },
        "id": "CuLVhSdwWrpW",
        "outputId": "18250492-cc1f-4de7-bc2a-c8d53ec50080"
      },
      "source": [
        "distribution_check(df,['Score_2'])"
      ],
      "execution_count": null,
      "outputs": [
        {
          "output_type": "stream",
          "text": [
            "/usr/local/lib/python3.6/dist-packages/seaborn/distributions.py:2557: FutureWarning: `distplot` is a deprecated function and will be removed in a future version. Please adapt your code to use either `displot` (a figure-level function with similar flexibility) or `histplot` (an axes-level function for histograms).\n",
            "  warnings.warn(msg, FutureWarning)\n"
          ],
          "name": "stderr"
        },
        {
          "output_type": "display_data",
          "data": {
            "image/png": "[encoded data removed]",
            "text/plain": [
              "<Figure size 864x504 with 1 Axes>"
            ]
          },
          "metadata": {
            "tags": []
          }
        }
      ]
    },
    {
      "cell_type": "code",
      "metadata": {
        "id": "yPUJ1JJUWKbA"
      },
      "source": [
        "#df['Score_2'] = np.log(df['Score_2'])"
      ],
      "execution_count": null,
      "outputs": []
    },
    {
      "cell_type": "code",
      "metadata": {
        "colab": {
          "base_uri": "https://localhost:8080/"
        },
        "id": "uJHF6zx9WgEW",
        "outputId": "e454ea89-7ace-4e4b-8cba-3b1eefe9688e"
      },
      "source": [
        "distribution_check(df,['time'])"
      ],
      "execution_count": null,
      "outputs": [
        {
          "output_type": "stream",
          "text": [
            "/usr/local/lib/python3.6/dist-packages/seaborn/distributions.py:2557: FutureWarning: `distplot` is a deprecated function and will be removed in a future version. Please adapt your code to use either `displot` (a figure-level function with similar flexibility) or `histplot` (an axes-level function for histograms).\n",
            "  warnings.warn(msg, FutureWarning)\n"
          ],
          "name": "stderr"
        },
        {
          "output_type": "display_data",
          "data": {
            "image/png": "[encoded data removed]",
            "text/plain": [
              "<Figure size 864x504 with 1 Axes>"
            ]
          },
          "metadata": {
            "tags": []
          }
        }
      ]
    },
    {
      "cell_type": "code",
      "metadata": {
        "colab": {
          "base_uri": "https://localhost:8080/"
        },
        "id": "CTHHZKqKWoFh",
        "outputId": "ed162d44-d859-4b52-9ca0-aab12345c1ca"
      },
      "source": [
        "df.isnull().sum()"
      ],
      "execution_count": null,
      "outputs": [
        {
          "output_type": "execute_result",
          "data": {
            "text/plain": [
              "Store_Ratio       0\n",
              "Basket_Ratio      0\n",
              "Category_1        0\n",
              "Store_Score       0\n",
              "Category_2        0\n",
              "Store_Presence    0\n",
              "Score_1           0\n",
              "Score_2           0\n",
              "Score_3           0\n",
              "Score_4           0\n",
              "time              0\n",
              "popularity        0\n",
              "hour              0\n",
              "month             0\n",
              "day               0\n",
              "year              0\n",
              "minute            0\n",
              "dtype: int64"
            ]
          },
          "metadata": {
            "tags": []
          },
          "execution_count": 235
        }
      ]
    },
    {
      "cell_type": "code",
      "metadata": {
        "colab": {
          "base_uri": "https://localhost:8080/"
        },
        "id": "EI2wqhCMdYzG",
        "outputId": "3b939d05-1588-4b47-c8c4-a25c8970b465"
      },
      "source": [
        "df.popularity.nunique()"
      ],
      "execution_count": null,
      "outputs": [
        {
          "output_type": "execute_result",
          "data": {
            "text/plain": [
              "5"
            ]
          },
          "metadata": {
            "tags": []
          },
          "execution_count": 236
        }
      ]
    },
    {
      "cell_type": "code",
      "metadata": {
        "id": "26ahGeSaWx0g"
      },
      "source": [
        "y = df[['popularity']]\r\n",
        "df = df.drop([\"popularity\",\"time\",\"Basket_Ratio\"],1)"
      ],
      "execution_count": null,
      "outputs": []
    },
    {
      "cell_type": "code",
      "metadata": {
        "id": "X5-BB3JeXDcS"
      },
      "source": [
        "X = df"
      ],
      "execution_count": null,
      "outputs": []
    },
    {
      "cell_type": "code",
      "metadata": {
        "colab": {
          "background_save": true,
          "base_uri": "https://localhost:8080/",
          "height": 353
        },
        "id": "F3ZmWFxecdHy",
        "outputId": "2872cb0f-9bf2-4d08-ee24-ef0f88a70a98"
      },
      "source": [
        "import seaborn as sns\r\n",
        "corr = X.corr()\r\n",
        "sns.heatmap(corr, mask=np.zeros_like(corr, dtype=np.bool), cmap=sns.diverging_palette(220, 10, as_cmap=True), square=True)"
      ],
      "execution_count": null,
      "outputs": [
        {
          "output_type": "execute_result",
          "data": {
            "text/plain": [
              "<matplotlib.axes._subplots.AxesSubplot at 0x7f18dd4310f0>"
            ]
          },
          "metadata": {
            "tags": []
          },
          "execution_count": 0
        },
        {
          "output_type": "display_data",
          "data": {
            "image/png": "[encoded data removed]",
            "text/plain": [
              "<Figure size 432x288 with 2 Axes>"
            ]
          },
          "metadata": {
            "tags": []
          }
        }
      ]
    },
    {
      "cell_type": "code",
      "metadata": {
        "colab": {
          "background_save": true
        },
        "id": "WgmDVaW7XHdw"
      },
      "source": [
        "from sklearn.preprocessing import MinMaxScaler\r\n",
        "scaler = MinMaxScaler()"
      ],
      "execution_count": null,
      "outputs": []
    },
    {
      "cell_type": "code",
      "metadata": {
        "colab": {
          "background_save": true
        },
        "id": "lyXXCR7Kq1Iv"
      },
      "source": [
        "#y = np.array(y)"
      ],
      "execution_count": null,
      "outputs": []
    },
    {
      "cell_type": "code",
      "metadata": {
        "colab": {
          "background_save": true
        },
        "id": "1y0YXcnFuNZg"
      },
      "source": [
        "from sklearn import preprocessing\r\n",
        "#y = preprocessing.label_binarize(y, classes=[0, 1, 3,4,5])"
      ],
      "execution_count": null,
      "outputs": []
    },
    {
      "cell_type": "code",
      "metadata": {
        "colab": {
          "background_save": true
        },
        "id": "LxlU0tZlXOU3",
        "outputId": "26b92168-e346-4ec4-d8a2-aa54cdbc33e2"
      },
      "source": [
        "X = scaler.fit_transform(X,1)\r\n",
        "X"
      ],
      "execution_count": null,
      "outputs": [
        {
          "output_type": "execute_result",
          "data": {
            "text/plain": [
              "array([[0.40781563, 0.00358477, 0.18181818, ..., 0.17391304, 0.1       ,\n",
              "        0.54237288],\n",
              "       [0.23446894, 0.10480664, 0.        , ..., 0.13043478, 0.1       ,\n",
              "        0.81355932],\n",
              "       [0.66933868, 0.7259408 , 0.81818182, ..., 1.        , 0.05      ,\n",
              "        0.83050847],\n",
              "       ...,\n",
              "       [0.16833667, 0.00886592, 0.45454545, ..., 1.        , 0.05      ,\n",
              "        0.93220339],\n",
              "       [0.5991984 , 0.65792611, 0.09090909, ..., 0.7826087 , 0.05      ,\n",
              "        0.37288136],\n",
              "       [0.58316633, 0.32385395, 0.18181818, ..., 0.73913043, 0.1       ,\n",
              "        0.91525424]])"
            ]
          },
          "metadata": {
            "tags": []
          },
          "execution_count": 0
        }
      ]
    },
    {
      "cell_type": "code",
      "metadata": {
        "colab": {
          "background_save": true
        },
        "id": "ZE75ryJFXSUM"
      },
      "source": [
        "from sklearn.model_selection import train_test_split\r\n",
        "X_train, X_test, y_train, y_test = train_test_split(X, y, test_size = 0.05, random_state = 42)"
      ],
      "execution_count": null,
      "outputs": []
    },
    {
      "cell_type": "markdown",
      "metadata": {
        "id": "CgxW80YB7y1j"
      },
      "source": [
        "SMOTE"
      ]
    },
    {
      "cell_type": "code",
      "metadata": {
        "colab": {
          "background_save": true
        },
        "id": "kzF2dAAs7x08"
      },
      "source": [
        "from imblearn.over_sampling import ADASYN\r\n",
        "from collections import Counter"
      ],
      "execution_count": null,
      "outputs": []
    },
    {
      "cell_type": "code",
      "metadata": {
        "colab": {
          "background_save": true
        },
        "id": "vMMRq51O7x37"
      },
      "source": [
        "counter = Counter(y_train)"
      ],
      "execution_count": null,
      "outputs": []
    },
    {
      "cell_type": "code",
      "metadata": {
        "colab": {
          "background_save": true
        },
        "id": "egDmHfvA7_qI",
        "outputId": "3e99f83e-d7ae-4fac-d79c-2adb74e0ce08"
      },
      "source": [
        "smt = ADASYN()\r\n",
        "X_train_sm,y_train_sm = smt.fit_resample(X_train,y_train)"
      ],
      "execution_count": null,
      "outputs": [
        {
          "output_type": "stream",
          "text": [
            "/usr/local/lib/python3.6/dist-packages/sklearn/utils/validation.py:760: DataConversionWarning: A column-vector y was passed when a 1d array was expected. Please change the shape of y to (n_samples, ), for example using ravel().\n",
            "  y = column_or_1d(y, warn=True)\n",
            "/usr/local/lib/python3.6/dist-packages/sklearn/utils/deprecation.py:87: FutureWarning: Function safe_indexing is deprecated; safe_indexing is deprecated in version 0.22 and will be removed in version 0.24.\n",
            "  warnings.warn(msg, category=FutureWarning)\n",
            "/usr/local/lib/python3.6/dist-packages/sklearn/utils/deprecation.py:87: FutureWarning: Function safe_indexing is deprecated; safe_indexing is deprecated in version 0.22 and will be removed in version 0.24.\n",
            "  warnings.warn(msg, category=FutureWarning)\n",
            "/usr/local/lib/python3.6/dist-packages/sklearn/utils/deprecation.py:87: FutureWarning: Function safe_indexing is deprecated; safe_indexing is deprecated in version 0.22 and will be removed in version 0.24.\n",
            "  warnings.warn(msg, category=FutureWarning)\n",
            "/usr/local/lib/python3.6/dist-packages/sklearn/utils/deprecation.py:87: FutureWarning: Function safe_indexing is deprecated; safe_indexing is deprecated in version 0.22 and will be removed in version 0.24.\n",
            "  warnings.warn(msg, category=FutureWarning)\n"
          ],
          "name": "stderr"
        }
      ]
    },
    {
      "cell_type": "code",
      "metadata": {
        "colab": {
          "background_save": true
        },
        "id": "sQlldGVw7_t2"
      },
      "source": [
        "counter = Counter(y_train_sm)"
      ],
      "execution_count": null,
      "outputs": []
    },
    {
      "cell_type": "code",
      "metadata": {
        "colab": {
          "background_save": true
        },
        "id": "hlG-Q2rv9GeN",
        "outputId": "182ac182-14f6-454e-9341-6fb8a8a5f79e"
      },
      "source": [
        "print(counter)"
      ],
      "execution_count": null,
      "outputs": [
        {
          "output_type": "stream",
          "text": [
            "Counter({3: 14546, 5: 14540, 0: 14474, 4: 14470, 1: 14456})\n"
          ],
          "name": "stdout"
        }
      ]
    },
    {
      "cell_type": "markdown",
      "metadata": {
        "id": "EL2edfBC1vt6"
      },
      "source": [
        "# RF"
      ]
    },
    {
      "cell_type": "code",
      "metadata": {
        "colab": {
          "background_save": true
        },
        "id": "CuYppYYo1-HO"
      },
      "source": [
        "class_weight=dict({4:60,0:100,3:85,5:90,1:90})"
      ],
      "execution_count": null,
      "outputs": []
    },
    {
      "cell_type": "code",
      "metadata": {
        "colab": {
          "background_save": true
        },
        "id": "fHnVEIfVX1qv"
      },
      "source": [
        "from sklearn.ensemble import RandomForestClassifier\r\n",
        "clf = RandomForestClassifier(n_estimators = 1000,class_weight=class_weight,verbose = 1,n_jobs = -1,random_state = 42)"
      ],
      "execution_count": null,
      "outputs": []
    },
    {
      "cell_type": "code",
      "metadata": {
        "colab": {
          "background_save": true
        },
        "id": "o9o367MxYCZt",
        "outputId": "8d606c44-d139-4965-bd07-3d32de169e3e"
      },
      "source": [
        "%%time\r\n",
        "\r\n",
        "clf.fit(X_train, y_train)\r\n",
        "\r\n",
        "pred_new = clf.predict(X_test)"
      ],
      "execution_count": null,
      "outputs": [
        {
          "output_type": "stream",
          "text": [
            "/usr/local/lib/python3.6/dist-packages/ipykernel_launcher.py:2: DataConversionWarning: A column-vector y was passed when a 1d array was expected. Please change the shape of y to (n_samples,), for example using ravel().\n",
            "  \n",
            "[Parallel(n_jobs=-1)]: Using backend ThreadingBackend with 2 concurrent workers.\n",
            "[Parallel(n_jobs=-1)]: Done  46 tasks      | elapsed:    1.2s\n",
            "[Parallel(n_jobs=-1)]: Done 196 tasks      | elapsed:    5.0s\n",
            "[Parallel(n_jobs=-1)]: Done 446 tasks      | elapsed:   11.2s\n",
            "[Parallel(n_jobs=-1)]: Done 796 tasks      | elapsed:   20.0s\n",
            "[Parallel(n_jobs=-1)]: Done 1000 out of 1000 | elapsed:   25.2s finished\n",
            "[Parallel(n_jobs=2)]: Using backend ThreadingBackend with 2 concurrent workers.\n",
            "[Parallel(n_jobs=2)]: Done  46 tasks      | elapsed:    0.0s\n",
            "[Parallel(n_jobs=2)]: Done 196 tasks      | elapsed:    0.1s\n",
            "[Parallel(n_jobs=2)]: Done 446 tasks      | elapsed:    0.2s\n",
            "[Parallel(n_jobs=2)]: Done 796 tasks      | elapsed:    0.3s\n"
          ],
          "name": "stderr"
        },
        {
          "output_type": "stream",
          "text": [
            "CPU times: user 50.2 s, sys: 212 ms, total: 50.4 s\n",
            "Wall time: 26 s\n"
          ],
          "name": "stdout"
        },
        {
          "output_type": "stream",
          "text": [
            "[Parallel(n_jobs=2)]: Done 1000 out of 1000 | elapsed:    0.4s finished\n"
          ],
          "name": "stderr"
        }
      ]
    },
    {
      "cell_type": "code",
      "metadata": {
        "colab": {
          "background_save": true
        },
        "id": "AUy2ipAOYDTL",
        "outputId": "071a1e73-6569-4b74-f867-f0bd76d7325b"
      },
      "source": [
        "pred_new = clf.predict(X_test)"
      ],
      "execution_count": null,
      "outputs": [
        {
          "output_type": "stream",
          "text": [
            "[Parallel(n_jobs=2)]: Using backend ThreadingBackend with 2 concurrent workers.\n",
            "[Parallel(n_jobs=2)]: Done  46 tasks      | elapsed:    0.0s\n",
            "[Parallel(n_jobs=2)]: Done 196 tasks      | elapsed:    0.1s\n",
            "[Parallel(n_jobs=2)]: Done 446 tasks      | elapsed:    0.2s\n",
            "[Parallel(n_jobs=2)]: Done 796 tasks      | elapsed:    0.3s\n",
            "[Parallel(n_jobs=2)]: Done 1000 out of 1000 | elapsed:    0.4s finished\n"
          ],
          "name": "stderr"
        }
      ]
    },
    {
      "cell_type": "code",
      "metadata": {
        "colab": {
          "background_save": true
        },
        "id": "tJKamCE9YENr",
        "outputId": "98f0dd95-d530-4451-9110-ca682dae55fb"
      },
      "source": [
        "print (\"Accuracy of test set\",accuracy_score(y_test, pred_new)*100,\"%\")"
      ],
      "execution_count": null,
      "outputs": [
        {
          "output_type": "stream",
          "text": [
            "Accuracy of test set 88.9132821075741 %\n"
          ],
          "name": "stdout"
        }
      ]
    },
    {
      "cell_type": "code",
      "metadata": {
        "colab": {
          "background_save": true
        },
        "id": "CCzB1HAbYFVz",
        "outputId": "6e2533e3-aacd-43fb-f57a-93cef2826b0a"
      },
      "source": [
        "pred_log = clf.predict_proba(X_test)\r\n",
        "print (\"log loss of test set\",log_loss(y_test, pred_log))"
      ],
      "execution_count": null,
      "outputs": [
        {
          "output_type": "stream",
          "text": [
            "[Parallel(n_jobs=2)]: Using backend ThreadingBackend with 2 concurrent workers.\n",
            "[Parallel(n_jobs=2)]: Done  46 tasks      | elapsed:    0.0s\n",
            "[Parallel(n_jobs=2)]: Done 196 tasks      | elapsed:    0.1s\n",
            "[Parallel(n_jobs=2)]: Done 446 tasks      | elapsed:    0.2s\n",
            "[Parallel(n_jobs=2)]: Done 796 tasks      | elapsed:    0.3s\n"
          ],
          "name": "stderr"
        },
        {
          "output_type": "stream",
          "text": [
            "log loss of test set 0.34194010456811974\n"
          ],
          "name": "stdout"
        },
        {
          "output_type": "stream",
          "text": [
            "[Parallel(n_jobs=2)]: Done 1000 out of 1000 | elapsed:    0.4s finished\n"
          ],
          "name": "stderr"
        }
      ]
    },
    {
      "cell_type": "code",
      "metadata": {
        "colab": {
          "background_save": true
        },
        "id": "Zy1lxMjb0l_X",
        "outputId": "f822f71f-8e92-42ad-be1d-b9db0fe32ec9"
      },
      "source": [
        "0.3362938412561886"
      ],
      "execution_count": null,
      "outputs": [
        {
          "output_type": "execute_result",
          "data": {
            "text/plain": [
              "0.3362938412561886"
            ]
          },
          "metadata": {
            "tags": []
          },
          "execution_count": 0
        }
      ]
    },
    {
      "cell_type": "markdown",
      "metadata": {
        "id": "QwncS21leD7C"
      },
      "source": [
        "Hyper parameter tuning"
      ]
    },
    {
      "cell_type": "code",
      "metadata": {
        "id": "wv2XNvHpeC-g"
      },
      "source": [
        "param_grid = { \r\n",
        "    'n_estimators': [200, 500,300],\r\n",
        "    'max_features': ['auto', 'sqrt', 'log2'],\r\n",
        "    'max_depth' : [4,5,6,7,8,10],\r\n",
        "    'criterion' :['gini', 'entropy']\r\n",
        "}\r\n",
        "from sklearn.model_selection import GridSearchCV"
      ],
      "execution_count": null,
      "outputs": []
    },
    {
      "cell_type": "code",
      "metadata": {
        "id": "O_vtoFSseDCl"
      },
      "source": [
        "CV_rfc = GridSearchCV(estimator=clf, param_grid=param_grid, cv= 3)\r\n",
        "CV_rfc.fit(X_train, y_train)"
      ],
      "execution_count": null,
      "outputs": []
    },
    {
      "cell_type": "code",
      "metadata": {
        "id": "9VlvOfVaYjhe"
      },
      "source": [
        "CV_rfc.best_params_"
      ],
      "execution_count": null,
      "outputs": []
    },
    {
      "cell_type": "markdown",
      "metadata": {
        "id": "ZF6hLsuTqbBt"
      },
      "source": [
        "# Feature selection"
      ]
    },
    {
      "cell_type": "code",
      "metadata": {
        "colab": {
          "base_uri": "https://localhost:8080/"
        },
        "id": "W6DvnTAdqd0V",
        "outputId": "d2eec00d-1570-457c-c316-b9ce305f43bb"
      },
      "source": [
        "from mlxtend.feature_selection import SequentialFeatureSelector as SFS\r\n",
        "sfs1 = SFS(RandomForestClassifier(n_jobs=-1), \r\n",
        "           k_features=X_train.shape[1], \r\n",
        "           forward=True, \r\n",
        "           floating=False, \r\n",
        "           verbose=2,\r\n",
        "           scoring='roc_auc',\r\n",
        "           cv=3,\r\n",
        "           n_jobs=-1)\r\n",
        "\r\n",
        "sfs1 = sfs1.fit(X_train, y_train)"
      ],
      "execution_count": null,
      "outputs": [
        {
          "output_type": "stream",
          "text": [
            "[Parallel(n_jobs=-1)]: Using backend LokyBackend with 2 concurrent workers.\n",
            "\n",
            "STOPPING EARLY DUE TO KEYBOARD INTERRUPT..."
          ],
          "name": "stderr"
        }
      ]
    },
    {
      "cell_type": "code",
      "metadata": {
        "id": "o61cgUHmqd3M"
      },
      "source": [
        "selected_feat= df.columns[list(sfs1.k_feature_idx_)]\r\n",
        "selected_feat"
      ],
      "execution_count": null,
      "outputs": []
    },
    {
      "cell_type": "code",
      "metadata": {
        "id": "ZxpnUTZVwlR2"
      },
      "source": [
        "\r\n",
        "pd.DataFrame.from_dict(sfs1.get_metric_dict()).T"
      ],
      "execution_count": null,
      "outputs": []
    },
    {
      "cell_type": "code",
      "metadata": {
        "id": "cWi6ydTBXUts"
      },
      "source": [
        "from sklearn.linear_model import LogisticRegression\r\n",
        "\r\n",
        "lr = LogisticRegression()\r\n",
        "\r\n",
        "lr.fit(X_train, y_train)"
      ],
      "execution_count": null,
      "outputs": []
    },
    {
      "cell_type": "code",
      "metadata": {
        "id": "2tJWRswbXje3"
      },
      "source": [
        "pred = lr.predict(X_test)\r\n",
        "pred1 = lr.predict(X_train)"
      ],
      "execution_count": null,
      "outputs": []
    },
    {
      "cell_type": "code",
      "metadata": {
        "id": "A2-wSAEPXmZ3"
      },
      "source": [
        "print (\"Accuracy of test set\",accuracy_score(y_test, pred)*100,\"%\")\r\n",
        "print (\"Accuracy of training set\",accuracy_score(y_train, pred1)*100,\"%\")"
      ],
      "execution_count": null,
      "outputs": []
    },
    {
      "cell_type": "markdown",
      "metadata": {
        "id": "M0vXs-sXdA89"
      },
      "source": [
        "Light gbm"
      ]
    },
    {
      "cell_type": "code",
      "metadata": {
        "id": "-JFMVePjdDUU"
      },
      "source": [
        "import lightgbm as lgb\r\n",
        "train = lgb.Dataset(X_train, label=y_train)\r\n",
        "test = lgb.Dataset(X_test, label=y_test)"
      ],
      "execution_count": null,
      "outputs": []
    },
    {
      "cell_type": "code",
      "metadata": {
        "id": "T0juV8-jdDXT"
      },
      "source": [
        "param = {'objective': 'multiclass',\r\n",
        "         'num_iterations': 1000,\r\n",
        "         'learning_rate': 0.01,  \r\n",
        "         'num_leaves': 23,\r\n",
        "         'verbose':0,\r\n",
        "         'max_depth': 15, \r\n",
        "         'min_data_in_leaf': 25, \r\n",
        "         'max_bin': 10, \r\n",
        "         'min_data_in_bin': 2,   \r\n",
        "         'num_class': 6,\r\n",
        "         'metric': 'multi_logloss'\r\n",
        "         }"
      ],
      "execution_count": null,
      "outputs": []
    },
    {
      "cell_type": "code",
      "metadata": {
        "id": "0yK9eYHAdDbB"
      },
      "source": [
        "lgbm = lgb.train(params=param,\r\n",
        "                 train_set=train,\r\n",
        "                 num_boost_round=200,\r\n",
        "                 valid_sets=[test])\r\n",
        "\r\n",
        "y_pred_class = lgbm.predict(X_test)"
      ],
      "execution_count": null,
      "outputs": []
    },
    {
      "cell_type": "code",
      "metadata": {
        "id": "V3apwdYPdLux"
      },
      "source": [
        "predictions = []\r\n",
        "for x in y_pred_class:\r\n",
        "    predictions.append(np.argmax(x))\r\n",
        "\r\n",
        "print('accuracy:', accuracy_score(y_test, predictions)*100)"
      ],
      "execution_count": null,
      "outputs": []
    },
    {
      "cell_type": "markdown",
      "metadata": {
        "id": "K_OJgAvOZIF6"
      },
      "source": [
        "# Fitting on Test set"
      ]
    },
    {
      "cell_type": "code",
      "metadata": {
        "id": "98QYmww1ZLQ7"
      },
      "source": [
        "df = pd.read_csv(\"/content/drive/MyDrive/MPP_Dataset/Test.csv\")"
      ],
      "execution_count": null,
      "outputs": []
    },
    {
      "cell_type": "code",
      "metadata": {
        "id": "-1LxmwBuZO5q"
      },
      "source": [
        "#df['time'] = np.log(df['time'])"
      ],
      "execution_count": null,
      "outputs": []
    },
    {
      "cell_type": "code",
      "metadata": {
        "id": "nyh2bCRsJoB9"
      },
      "source": [
        "df['hour'] = pd.to_datetime(df['time'].astype(int), unit='s').dt.hour\r\n",
        "df['month'] = pd.to_datetime(df['time'].astype(int), unit='s').dt.month\r\n",
        "df['day'] = pd.to_datetime(df['time'].astype(int), unit='s').dt.day\r\n",
        "df['year'] = pd.to_datetime(df['time'].astype(int), unit='s').dt.year\r\n",
        "#df['minute'] = pd.to_datetime(df['time'].astype(int), unit='s').dt.minute\r\n",
        "df = df.drop([\"time\"],1)"
      ],
      "execution_count": null,
      "outputs": []
    },
    {
      "cell_type": "code",
      "metadata": {
        "id": "TZADyAvpZSDR"
      },
      "source": [
        "X = df"
      ],
      "execution_count": null,
      "outputs": []
    },
    {
      "cell_type": "code",
      "metadata": {
        "colab": {
          "base_uri": "https://localhost:8080/",
          "height": 424
        },
        "id": "aGtuIHQXJyFE",
        "outputId": "fcc87c4c-5ece-400f-a8dc-597c8ac0732f"
      },
      "source": [
        "df"
      ],
      "execution_count": null,
      "outputs": [
        {
          "output_type": "execute_result",
          "data": {
            "text/html": [
              "<div>\n",
              "<style scoped>\n",
              "    .dataframe tbody tr th:only-of-type {\n",
              "        vertical-align: middle;\n",
              "    }\n",
              "\n",
              "    .dataframe tbody tr th {\n",
              "        vertical-align: top;\n",
              "    }\n",
              "\n",
              "    .dataframe thead th {\n",
              "        text-align: right;\n",
              "    }\n",
              "</style>\n",
              "<table border=\"1\" class=\"dataframe\">\n",
              "  <thead>\n",
              "    <tr style=\"text-align: right;\">\n",
              "      <th></th>\n",
              "      <th>Store_Ratio</th>\n",
              "      <th>Basket_Ratio</th>\n",
              "      <th>Category_1</th>\n",
              "      <th>Store_Score</th>\n",
              "      <th>Category_2</th>\n",
              "      <th>Store_Presence</th>\n",
              "      <th>Score_1</th>\n",
              "      <th>Score_2</th>\n",
              "      <th>Score_3</th>\n",
              "      <th>Score_4</th>\n",
              "      <th>hour</th>\n",
              "      <th>month</th>\n",
              "      <th>day</th>\n",
              "      <th>year</th>\n",
              "      <th>minute</th>\n",
              "    </tr>\n",
              "  </thead>\n",
              "  <tbody>\n",
              "    <tr>\n",
              "      <th>0</th>\n",
              "      <td>0.164</td>\n",
              "      <td>0.994</td>\n",
              "      <td>1</td>\n",
              "      <td>-23.718</td>\n",
              "      <td>0</td>\n",
              "      <td>0.12400</td>\n",
              "      <td>0.991000</td>\n",
              "      <td>0.7890</td>\n",
              "      <td>0.00001</td>\n",
              "      <td>127.602</td>\n",
              "      <td>17</td>\n",
              "      <td>1</td>\n",
              "      <td>3</td>\n",
              "      <td>1970</td>\n",
              "      <td>40</td>\n",
              "    </tr>\n",
              "    <tr>\n",
              "      <th>1</th>\n",
              "      <td>0.586</td>\n",
              "      <td>0.636</td>\n",
              "      <td>4</td>\n",
              "      <td>-7.710</td>\n",
              "      <td>1</td>\n",
              "      <td>0.00208</td>\n",
              "      <td>0.322000</td>\n",
              "      <td>0.1070</td>\n",
              "      <td>0.35500</td>\n",
              "      <td>136.337</td>\n",
              "      <td>22</td>\n",
              "      <td>1</td>\n",
              "      <td>3</td>\n",
              "      <td>1970</td>\n",
              "      <td>27</td>\n",
              "    </tr>\n",
              "    <tr>\n",
              "      <th>2</th>\n",
              "      <td>0.457</td>\n",
              "      <td>0.743</td>\n",
              "      <td>0</td>\n",
              "      <td>-7.591</td>\n",
              "      <td>1</td>\n",
              "      <td>0.40400</td>\n",
              "      <td>0.009310</td>\n",
              "      <td>0.2010</td>\n",
              "      <td>0.68800</td>\n",
              "      <td>154.902</td>\n",
              "      <td>11</td>\n",
              "      <td>1</td>\n",
              "      <td>3</td>\n",
              "      <td>1970</td>\n",
              "      <td>54</td>\n",
              "    </tr>\n",
              "    <tr>\n",
              "      <th>3</th>\n",
              "      <td>0.423</td>\n",
              "      <td>0.748</td>\n",
              "      <td>5</td>\n",
              "      <td>-9.832</td>\n",
              "      <td>1</td>\n",
              "      <td>0.03000</td>\n",
              "      <td>0.221000</td>\n",
              "      <td>0.1690</td>\n",
              "      <td>0.42800</td>\n",
              "      <td>93.977</td>\n",
              "      <td>18</td>\n",
              "      <td>1</td>\n",
              "      <td>4</td>\n",
              "      <td>1970</td>\n",
              "      <td>20</td>\n",
              "    </tr>\n",
              "    <tr>\n",
              "      <th>4</th>\n",
              "      <td>0.802</td>\n",
              "      <td>0.756</td>\n",
              "      <td>2</td>\n",
              "      <td>-10.791</td>\n",
              "      <td>0</td>\n",
              "      <td>0.08430</td>\n",
              "      <td>0.007650</td>\n",
              "      <td>0.0521</td>\n",
              "      <td>0.96300</td>\n",
              "      <td>131.715</td>\n",
              "      <td>8</td>\n",
              "      <td>1</td>\n",
              "      <td>4</td>\n",
              "      <td>1970</td>\n",
              "      <td>4</td>\n",
              "    </tr>\n",
              "    <tr>\n",
              "      <th>...</th>\n",
              "      <td>...</td>\n",
              "      <td>...</td>\n",
              "      <td>...</td>\n",
              "      <td>...</td>\n",
              "      <td>...</td>\n",
              "      <td>...</td>\n",
              "      <td>...</td>\n",
              "      <td>...</td>\n",
              "      <td>...</td>\n",
              "      <td>...</td>\n",
              "      <td>...</td>\n",
              "      <td>...</td>\n",
              "      <td>...</td>\n",
              "      <td>...</td>\n",
              "      <td>...</td>\n",
              "    </tr>\n",
              "    <tr>\n",
              "      <th>12135</th>\n",
              "      <td>0.171</td>\n",
              "      <td>0.118</td>\n",
              "      <td>2</td>\n",
              "      <td>-25.360</td>\n",
              "      <td>1</td>\n",
              "      <td>0.86100</td>\n",
              "      <td>0.871000</td>\n",
              "      <td>0.0932</td>\n",
              "      <td>0.05390</td>\n",
              "      <td>78.303</td>\n",
              "      <td>5</td>\n",
              "      <td>1</td>\n",
              "      <td>3</td>\n",
              "      <td>1970</td>\n",
              "      <td>20</td>\n",
              "    </tr>\n",
              "    <tr>\n",
              "      <th>12136</th>\n",
              "      <td>0.744</td>\n",
              "      <td>0.859</td>\n",
              "      <td>11</td>\n",
              "      <td>-3.166</td>\n",
              "      <td>1</td>\n",
              "      <td>0.02560</td>\n",
              "      <td>0.000063</td>\n",
              "      <td>0.0881</td>\n",
              "      <td>0.78700</td>\n",
              "      <td>91.977</td>\n",
              "      <td>16</td>\n",
              "      <td>1</td>\n",
              "      <td>3</td>\n",
              "      <td>1970</td>\n",
              "      <td>39</td>\n",
              "    </tr>\n",
              "    <tr>\n",
              "      <th>12137</th>\n",
              "      <td>0.572</td>\n",
              "      <td>0.852</td>\n",
              "      <td>6</td>\n",
              "      <td>-4.712</td>\n",
              "      <td>0</td>\n",
              "      <td>0.00105</td>\n",
              "      <td>0.000000</td>\n",
              "      <td>0.0844</td>\n",
              "      <td>0.37800</td>\n",
              "      <td>129.969</td>\n",
              "      <td>12</td>\n",
              "      <td>1</td>\n",
              "      <td>3</td>\n",
              "      <td>1970</td>\n",
              "      <td>6</td>\n",
              "    </tr>\n",
              "    <tr>\n",
              "      <th>12138</th>\n",
              "      <td>0.761</td>\n",
              "      <td>0.525</td>\n",
              "      <td>11</td>\n",
              "      <td>-6.900</td>\n",
              "      <td>1</td>\n",
              "      <td>0.44000</td>\n",
              "      <td>0.000007</td>\n",
              "      <td>0.0921</td>\n",
              "      <td>0.53100</td>\n",
              "      <td>80.870</td>\n",
              "      <td>18</td>\n",
              "      <td>1</td>\n",
              "      <td>3</td>\n",
              "      <td>1970</td>\n",
              "      <td>20</td>\n",
              "    </tr>\n",
              "    <tr>\n",
              "      <th>12139</th>\n",
              "      <td>0.341</td>\n",
              "      <td>0.197</td>\n",
              "      <td>9</td>\n",
              "      <td>-19.350</td>\n",
              "      <td>1</td>\n",
              "      <td>0.98600</td>\n",
              "      <td>0.963000</td>\n",
              "      <td>0.0800</td>\n",
              "      <td>0.96500</td>\n",
              "      <td>115.107</td>\n",
              "      <td>20</td>\n",
              "      <td>1</td>\n",
              "      <td>1</td>\n",
              "      <td>1970</td>\n",
              "      <td>16</td>\n",
              "    </tr>\n",
              "  </tbody>\n",
              "</table>\n",
              "<p>12140 rows × 15 columns</p>\n",
              "</div>"
            ],
            "text/plain": [
              "       Store_Ratio  Basket_Ratio  Category_1  ...  day  year  minute\n",
              "0            0.164         0.994           1  ...    3  1970      40\n",
              "1            0.586         0.636           4  ...    3  1970      27\n",
              "2            0.457         0.743           0  ...    3  1970      54\n",
              "3            0.423         0.748           5  ...    4  1970      20\n",
              "4            0.802         0.756           2  ...    4  1970       4\n",
              "...            ...           ...         ...  ...  ...   ...     ...\n",
              "12135        0.171         0.118           2  ...    3  1970      20\n",
              "12136        0.744         0.859          11  ...    3  1970      39\n",
              "12137        0.572         0.852           6  ...    3  1970       6\n",
              "12138        0.761         0.525          11  ...    3  1970      20\n",
              "12139        0.341         0.197           9  ...    1  1970      16\n",
              "\n",
              "[12140 rows x 15 columns]"
            ]
          },
          "metadata": {
            "tags": []
          },
          "execution_count": 1077
        }
      ]
    },
    {
      "cell_type": "code",
      "metadata": {
        "colab": {
          "base_uri": "https://localhost:8080/"
        },
        "id": "LJKNOze-ZVIy",
        "outputId": "adc483f2-59c6-46a8-b924-cdda5325ffec"
      },
      "source": [
        "X = scaler.transform(X)\r\n",
        "X"
      ],
      "execution_count": null,
      "outputs": [
        {
          "output_type": "execute_result",
          "data": {
            "text/plain": [
              "array([[0.16432866, 0.9939987 , 0.09090909, ..., 0.1       , 0.        ,\n",
              "        0.6779661 ],\n",
              "       [0.58717435, 0.63592136, 0.36363636, ..., 0.1       , 0.        ,\n",
              "        0.45762712],\n",
              "       [0.45791583, 0.74294448, 0.        , ..., 0.1       , 0.        ,\n",
              "        0.91525424],\n",
              "       ...,\n",
              "       [0.57314629, 0.85196803, 0.54545455, ..., 0.1       , 0.        ,\n",
              "        0.10169492],\n",
              "       [0.76252505, 0.52489738, 1.        , ..., 0.1       , 0.        ,\n",
              "        0.33898305],\n",
              "       [0.34168337, 0.19682651, 0.81818182, ..., 0.        , 0.        ,\n",
              "        0.27118644]])"
            ]
          },
          "metadata": {
            "tags": []
          },
          "execution_count": 1078
        }
      ]
    },
    {
      "cell_type": "code",
      "metadata": {
        "colab": {
          "base_uri": "https://localhost:8080/"
        },
        "id": "FVJlx-VhZZm2",
        "outputId": "c36983cd-406a-493b-89be-a65f728c62b7"
      },
      "source": [
        "pred_log = clf.predict_proba(X)"
      ],
      "execution_count": null,
      "outputs": [
        {
          "output_type": "stream",
          "text": [
            "[Parallel(n_jobs=2)]: Using backend ThreadingBackend with 2 concurrent workers.\n",
            "[Parallel(n_jobs=2)]: Done  46 tasks      | elapsed:    0.1s\n",
            "[Parallel(n_jobs=2)]: Done 196 tasks      | elapsed:    0.5s\n",
            "[Parallel(n_jobs=2)]: Done 446 tasks      | elapsed:    1.2s\n",
            "[Parallel(n_jobs=2)]: Done 796 tasks      | elapsed:    2.1s\n",
            "[Parallel(n_jobs=2)]: Done 1000 out of 1000 | elapsed:    2.7s finished\n"
          ],
          "name": "stderr"
        }
      ]
    },
    {
      "cell_type": "code",
      "metadata": {
        "colab": {
          "base_uri": "https://localhost:8080/"
        },
        "id": "T6z64aegZkcl",
        "outputId": "2b62e5f2-d75b-4436-c0e0-2fcc5e60f061"
      },
      "source": [
        "pred_log"
      ],
      "execution_count": null,
      "outputs": [
        {
          "output_type": "execute_result",
          "data": {
            "text/plain": [
              "array([[0.   , 0.085, 0.32 , 0.515, 0.08 ],\n",
              "       [0.   , 0.002, 0.017, 0.974, 0.007],\n",
              "       [0.   , 0.009, 0.041, 0.945, 0.005],\n",
              "       ...,\n",
              "       [0.   , 0.001, 0.013, 0.981, 0.005],\n",
              "       [0.   , 0.   , 0.003, 0.997, 0.   ],\n",
              "       [0.   , 0.053, 0.274, 0.633, 0.04 ]])"
            ]
          },
          "metadata": {
            "tags": []
          },
          "execution_count": 1080
        }
      ]
    },
    {
      "cell_type": "code",
      "metadata": {
        "colab": {
          "base_uri": "https://localhost:8080/",
          "height": 404
        },
        "id": "sP_9UHj7Zl9t",
        "outputId": "e1991d14-7a07-4fc5-d51d-950980cfc47b"
      },
      "source": [
        "prediction  = pd.DataFrame(pred_log,columns =['0','1','3','4','5'])\r\n",
        "prediction"
      ],
      "execution_count": null,
      "outputs": [
        {
          "output_type": "execute_result",
          "data": {
            "text/html": [
              "<div>\n",
              "<style scoped>\n",
              "    .dataframe tbody tr th:only-of-type {\n",
              "        vertical-align: middle;\n",
              "    }\n",
              "\n",
              "    .dataframe tbody tr th {\n",
              "        vertical-align: top;\n",
              "    }\n",
              "\n",
              "    .dataframe thead th {\n",
              "        text-align: right;\n",
              "    }\n",
              "</style>\n",
              "<table border=\"1\" class=\"dataframe\">\n",
              "  <thead>\n",
              "    <tr style=\"text-align: right;\">\n",
              "      <th></th>\n",
              "      <th>0</th>\n",
              "      <th>1</th>\n",
              "      <th>3</th>\n",
              "      <th>4</th>\n",
              "      <th>5</th>\n",
              "    </tr>\n",
              "  </thead>\n",
              "  <tbody>\n",
              "    <tr>\n",
              "      <th>0</th>\n",
              "      <td>0.0</td>\n",
              "      <td>0.085</td>\n",
              "      <td>0.320</td>\n",
              "      <td>0.515</td>\n",
              "      <td>0.080</td>\n",
              "    </tr>\n",
              "    <tr>\n",
              "      <th>1</th>\n",
              "      <td>0.0</td>\n",
              "      <td>0.002</td>\n",
              "      <td>0.017</td>\n",
              "      <td>0.974</td>\n",
              "      <td>0.007</td>\n",
              "    </tr>\n",
              "    <tr>\n",
              "      <th>2</th>\n",
              "      <td>0.0</td>\n",
              "      <td>0.009</td>\n",
              "      <td>0.041</td>\n",
              "      <td>0.945</td>\n",
              "      <td>0.005</td>\n",
              "    </tr>\n",
              "    <tr>\n",
              "      <th>3</th>\n",
              "      <td>0.0</td>\n",
              "      <td>0.008</td>\n",
              "      <td>0.045</td>\n",
              "      <td>0.922</td>\n",
              "      <td>0.025</td>\n",
              "    </tr>\n",
              "    <tr>\n",
              "      <th>4</th>\n",
              "      <td>0.0</td>\n",
              "      <td>0.000</td>\n",
              "      <td>0.000</td>\n",
              "      <td>1.000</td>\n",
              "      <td>0.000</td>\n",
              "    </tr>\n",
              "    <tr>\n",
              "      <th>...</th>\n",
              "      <td>...</td>\n",
              "      <td>...</td>\n",
              "      <td>...</td>\n",
              "      <td>...</td>\n",
              "      <td>...</td>\n",
              "    </tr>\n",
              "    <tr>\n",
              "      <th>12135</th>\n",
              "      <td>0.0</td>\n",
              "      <td>0.021</td>\n",
              "      <td>0.104</td>\n",
              "      <td>0.847</td>\n",
              "      <td>0.028</td>\n",
              "    </tr>\n",
              "    <tr>\n",
              "      <th>12136</th>\n",
              "      <td>0.0</td>\n",
              "      <td>0.003</td>\n",
              "      <td>0.017</td>\n",
              "      <td>0.977</td>\n",
              "      <td>0.003</td>\n",
              "    </tr>\n",
              "    <tr>\n",
              "      <th>12137</th>\n",
              "      <td>0.0</td>\n",
              "      <td>0.001</td>\n",
              "      <td>0.013</td>\n",
              "      <td>0.981</td>\n",
              "      <td>0.005</td>\n",
              "    </tr>\n",
              "    <tr>\n",
              "      <th>12138</th>\n",
              "      <td>0.0</td>\n",
              "      <td>0.000</td>\n",
              "      <td>0.003</td>\n",
              "      <td>0.997</td>\n",
              "      <td>0.000</td>\n",
              "    </tr>\n",
              "    <tr>\n",
              "      <th>12139</th>\n",
              "      <td>0.0</td>\n",
              "      <td>0.053</td>\n",
              "      <td>0.274</td>\n",
              "      <td>0.633</td>\n",
              "      <td>0.040</td>\n",
              "    </tr>\n",
              "  </tbody>\n",
              "</table>\n",
              "<p>12140 rows × 5 columns</p>\n",
              "</div>"
            ],
            "text/plain": [
              "         0      1      3      4      5\n",
              "0      0.0  0.085  0.320  0.515  0.080\n",
              "1      0.0  0.002  0.017  0.974  0.007\n",
              "2      0.0  0.009  0.041  0.945  0.005\n",
              "3      0.0  0.008  0.045  0.922  0.025\n",
              "4      0.0  0.000  0.000  1.000  0.000\n",
              "...    ...    ...    ...    ...    ...\n",
              "12135  0.0  0.021  0.104  0.847  0.028\n",
              "12136  0.0  0.003  0.017  0.977  0.003\n",
              "12137  0.0  0.001  0.013  0.981  0.005\n",
              "12138  0.0  0.000  0.003  0.997  0.000\n",
              "12139  0.0  0.053  0.274  0.633  0.040\n",
              "\n",
              "[12140 rows x 5 columns]"
            ]
          },
          "metadata": {
            "tags": []
          },
          "execution_count": 1081
        }
      ]
    },
    {
      "cell_type": "code",
      "metadata": {
        "id": "mK-Jk8jJZsF5"
      },
      "source": [
        "prediction.to_csv('result_MP.csv',index=False)"
      ],
      "execution_count": null,
      "outputs": []
    },
    {
      "cell_type": "code",
      "metadata": {
        "id": "uskBZ-9aZviO"
      },
      "source": [
        ""
      ],
      "execution_count": null,
      "outputs": []
    }
  ]
}