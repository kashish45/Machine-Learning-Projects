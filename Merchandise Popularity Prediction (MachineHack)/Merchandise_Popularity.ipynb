{
  "nbformat": 4,
  "nbformat_minor": 0,
  "metadata": {
    "accelerator": "GPU",
    "colab": {
      "name": "Merchandise Popularity",
      "provenance": [],
      "collapsed_sections": []
    },
    "kernelspec": {
      "display_name": "Python 3",
      "name": "python3"
    }
  },
  "cells": [
    {
      "cell_type": "code",
      "metadata": {
        "id": "B7BdTw4YqoDD"
      },
      "source": [
        "import numpy as np\r\n",
        "import pandas as pd\r\n",
        "import seaborn as sns\r\n",
        "import matplotlib.pyplot as plt\r\n",
        "import warnings\r\n",
        "warnings.filterwarnings('ignore')\r\n",
        "sns.set_style('darkgrid')"
      ],
      "execution_count": null,
      "outputs": []
    },
    {
      "cell_type": "code",
      "metadata": {
        "colab": {
          "base_uri": "https://localhost:8080/",
          "height": 215
        },
        "id": "LEEMQirCrAXt",
        "outputId": "fbddf070-e3b3-4a4e-c7d4-76dc37568eb5"
      },
      "source": [
        "train_data=pd.read_csv('Train.csv')\r\n",
        "df=train_data.copy()\r\n",
        "df.head()"
      ],
      "execution_count": null,
      "outputs": [
        {
          "output_type": "execute_result",
          "data": {
            "text/html": [
              "<div>\n",
              "<style scoped>\n",
              "    .dataframe tbody tr th:only-of-type {\n",
              "        vertical-align: middle;\n",
              "    }\n",
              "\n",
              "    .dataframe tbody tr th {\n",
              "        vertical-align: top;\n",
              "    }\n",
              "\n",
              "    .dataframe thead th {\n",
              "        text-align: right;\n",
              "    }\n",
              "</style>\n",
              "<table border=\"1\" class=\"dataframe\">\n",
              "  <thead>\n",
              "    <tr style=\"text-align: right;\">\n",
              "      <th></th>\n",
              "      <th>Store_Ratio</th>\n",
              "      <th>Basket_Ratio</th>\n",
              "      <th>Category_1</th>\n",
              "      <th>Store_Score</th>\n",
              "      <th>Category_2</th>\n",
              "      <th>Store_Presence</th>\n",
              "      <th>Score_1</th>\n",
              "      <th>Score_2</th>\n",
              "      <th>Score_3</th>\n",
              "      <th>Score_4</th>\n",
              "      <th>time</th>\n",
              "      <th>popularity</th>\n",
              "    </tr>\n",
              "  </thead>\n",
              "  <tbody>\n",
              "    <tr>\n",
              "      <th>0</th>\n",
              "      <td>0.407</td>\n",
              "      <td>0.00380</td>\n",
              "      <td>2</td>\n",
              "      <td>-35.865</td>\n",
              "      <td>1</td>\n",
              "      <td>0.9920</td>\n",
              "      <td>0.944</td>\n",
              "      <td>0.0988</td>\n",
              "      <td>0.1100</td>\n",
              "      <td>113.911</td>\n",
              "      <td>189125</td>\n",
              "      <td>4</td>\n",
              "    </tr>\n",
              "    <tr>\n",
              "      <th>1</th>\n",
              "      <td>0.234</td>\n",
              "      <td>0.10500</td>\n",
              "      <td>0</td>\n",
              "      <td>-19.884</td>\n",
              "      <td>1</td>\n",
              "      <td>0.9440</td>\n",
              "      <td>0.900</td>\n",
              "      <td>0.1290</td>\n",
              "      <td>0.0382</td>\n",
              "      <td>76.332</td>\n",
              "      <td>186513</td>\n",
              "      <td>4</td>\n",
              "    </tr>\n",
              "    <tr>\n",
              "      <th>2</th>\n",
              "      <td>0.668</td>\n",
              "      <td>0.72600</td>\n",
              "      <td>9</td>\n",
              "      <td>-7.512</td>\n",
              "      <td>1</td>\n",
              "      <td>0.0387</td>\n",
              "      <td>0.000</td>\n",
              "      <td>0.1340</td>\n",
              "      <td>0.4530</td>\n",
              "      <td>124.075</td>\n",
              "      <td>172143</td>\n",
              "      <td>4</td>\n",
              "    </tr>\n",
              "    <tr>\n",
              "      <th>3</th>\n",
              "      <td>0.184</td>\n",
              "      <td>0.00561</td>\n",
              "      <td>4</td>\n",
              "      <td>-34.357</td>\n",
              "      <td>1</td>\n",
              "      <td>0.8490</td>\n",
              "      <td>0.931</td>\n",
              "      <td>0.1110</td>\n",
              "      <td>0.0641</td>\n",
              "      <td>79.037</td>\n",
              "      <td>184000</td>\n",
              "      <td>5</td>\n",
              "    </tr>\n",
              "    <tr>\n",
              "      <th>4</th>\n",
              "      <td>0.231</td>\n",
              "      <td>0.13100</td>\n",
              "      <td>6</td>\n",
              "      <td>-22.842</td>\n",
              "      <td>1</td>\n",
              "      <td>0.9370</td>\n",
              "      <td>0.000</td>\n",
              "      <td>0.1090</td>\n",
              "      <td>0.0677</td>\n",
              "      <td>109.560</td>\n",
              "      <td>186507</td>\n",
              "      <td>3</td>\n",
              "    </tr>\n",
              "  </tbody>\n",
              "</table>\n",
              "</div>"
            ],
            "text/plain": [
              "   Store_Ratio  Basket_Ratio  Category_1  ...  Score_4    time  popularity\n",
              "0        0.407       0.00380           2  ...  113.911  189125           4\n",
              "1        0.234       0.10500           0  ...   76.332  186513           4\n",
              "2        0.668       0.72600           9  ...  124.075  172143           4\n",
              "3        0.184       0.00561           4  ...   79.037  184000           5\n",
              "4        0.231       0.13100           6  ...  109.560  186507           3\n",
              "\n",
              "[5 rows x 12 columns]"
            ]
          },
          "metadata": {
            "tags": []
          },
          "execution_count": 185
        }
      ]
    },
    {
      "cell_type": "code",
      "metadata": {
        "colab": {
          "base_uri": "https://localhost:8080/"
        },
        "id": "r_Q29aLFrhCb",
        "outputId": "d0c0d93d-f381-4e73-dadc-2cdb787f6679"
      },
      "source": [
        "df.columns"
      ],
      "execution_count": null,
      "outputs": [
        {
          "output_type": "execute_result",
          "data": {
            "text/plain": [
              "Index(['Store_Ratio', 'Basket_Ratio', 'Category_1', 'Store_Score',\n",
              "       'Category_2', 'Store_Presence', 'Score_1', 'Score_2', 'Score_3',\n",
              "       'Score_4', 'time', 'popularity'],\n",
              "      dtype='object')"
            ]
          },
          "metadata": {
            "tags": []
          },
          "execution_count": 186
        }
      ]
    },
    {
      "cell_type": "code",
      "metadata": {
        "colab": {
          "base_uri": "https://localhost:8080/",
          "height": 284
        },
        "id": "Tj4vLDs3rIXg",
        "outputId": "415b2c49-e741-49d0-e901-ce79345c7eeb"
      },
      "source": [
        "df['Store_Ratio'].hist(bins=50)"
      ],
      "execution_count": null,
      "outputs": [
        {
          "output_type": "execute_result",
          "data": {
            "text/plain": [
              "<matplotlib.axes._subplots.AxesSubplot at 0x7f7df4053ba8>"
            ]
          },
          "metadata": {
            "tags": []
          },
          "execution_count": 187
        },
        {
          "output_type": "display_data",
          "data": {
            "image/png": "[encoded data removed]",
            "text/plain": [
              "<Figure size 432x288 with 1 Axes>"
            ]
          },
          "metadata": {
            "tags": []
          }
        }
      ]
    },
    {
      "cell_type": "code",
      "metadata": {
        "colab": {
          "base_uri": "https://localhost:8080/",
          "height": 282
        },
        "id": "Lu1psGQBreI7",
        "outputId": "061be38e-ad8d-41d4-e5d3-7abc511c067f"
      },
      "source": [
        "df['Store_Score'].hist(bins=50)"
      ],
      "execution_count": null,
      "outputs": [
        {
          "output_type": "execute_result",
          "data": {
            "text/plain": [
              "<matplotlib.axes._subplots.AxesSubplot at 0x7f7df1db4e10>"
            ]
          },
          "metadata": {
            "tags": []
          },
          "execution_count": 188
        },
        {
          "output_type": "display_data",
          "data": {
            "image/png": "[encoded data removed]",
            "text/plain": [
              "<Figure size 432x288 with 1 Axes>"
            ]
          },
          "metadata": {
            "tags": []
          }
        }
      ]
    },
    {
      "cell_type": "code",
      "metadata": {
        "colab": {
          "base_uri": "https://localhost:8080/",
          "height": 284
        },
        "id": "Smy-f7qCrmWx",
        "outputId": "f3713817-5c96-430c-a350-3e160891c534"
      },
      "source": [
        "df['Store_Presence'].hist(bins=50)"
      ],
      "execution_count": null,
      "outputs": [
        {
          "output_type": "execute_result",
          "data": {
            "text/plain": [
              "<matplotlib.axes._subplots.AxesSubplot at 0x7f7df1cac160>"
            ]
          },
          "metadata": {
            "tags": []
          },
          "execution_count": 189
        },
        {
          "output_type": "display_data",
          "data": {
            "image/png": "[encoded data removed]",
            "text/plain": [
              "<Figure size 432x288 with 1 Axes>"
            ]
          },
          "metadata": {
            "tags": []
          }
        }
      ]
    },
    {
      "cell_type": "code",
      "metadata": {
        "id": "ZVSIUGvusG4_"
      },
      "source": [
        "y = df[['popularity']]\r\n",
        "df = df.drop([\"popularity\"],1)"
      ],
      "execution_count": null,
      "outputs": []
    },
    {
      "cell_type": "code",
      "metadata": {
        "id": "b5m-jtbisrHU"
      },
      "source": [
        "X = df"
      ],
      "execution_count": null,
      "outputs": []
    },
    {
      "cell_type": "code",
      "metadata": {
        "id": "dQc4UZCmssmy"
      },
      "source": [
        "from sklearn.preprocessing import MinMaxScaler\r\n",
        "scaler = MinMaxScaler()"
      ],
      "execution_count": null,
      "outputs": []
    },
    {
      "cell_type": "code",
      "metadata": {
        "colab": {
          "base_uri": "https://localhost:8080/"
        },
        "id": "PZgo6dRdsun-",
        "outputId": "4c86e371-b498-43b8-d397-2034e0b667ee"
      },
      "source": [
        "X = scaler.fit_transform(X,1)\r\n",
        "X"
      ],
      "execution_count": null,
      "outputs": [
        {
          "output_type": "execute_result",
          "data": {
            "text/plain": [
              "array([[0.40781563, 0.00358477, 0.18181818, ..., 0.11011011, 0.51848194,\n",
              "        0.04057165],\n",
              "       [0.23446894, 0.10480664, 0.        , ..., 0.03823824, 0.34743583,\n",
              "        0.03989787],\n",
              "       [0.66933868, 0.7259408 , 0.81818182, ..., 0.45345345, 0.56474481,\n",
              "        0.03619104],\n",
              "       ...,\n",
              "       [0.16833667, 0.00886592, 0.45454545, ..., 0.3963964 , 0.31303908,\n",
              "        0.03628313],\n",
              "       [0.5991984 , 0.65792611, 0.09090909, ..., 0.47347347, 0.48614708,\n",
              "        0.03113896],\n",
              "       [0.58316633, 0.32385395, 0.18181818, ..., 0.24924925, 0.40398086,\n",
              "        0.0529969 ]])"
            ]
          },
          "metadata": {
            "tags": []
          },
          "execution_count": 193
        }
      ]
    },
    {
      "cell_type": "code",
      "metadata": {
        "id": "VvmZaMjvsvvC"
      },
      "source": [
        "from sklearn.model_selection import train_test_split\r\n",
        "X_train, X_test, y_train, y_test = train_test_split(X, y, test_size = 0.05, random_state = 42)"
      ],
      "execution_count": null,
      "outputs": []
    },
    {
      "cell_type": "code",
      "metadata": {
        "colab": {
          "base_uri": "https://localhost:8080/"
        },
        "id": "0CXXdI6osxaL",
        "outputId": "7d23eb35-f594-49af-97b7-20ec39abf0fd"
      },
      "source": [
        "from sklearn.linear_model import LogisticRegression\r\n",
        "\r\n",
        "lr = LogisticRegression()\r\n",
        "\r\n",
        "lr.fit(X_train, y_train)"
      ],
      "execution_count": null,
      "outputs": [
        {
          "output_type": "execute_result",
          "data": {
            "text/plain": [
              "LogisticRegression(C=1.0, class_weight=None, dual=False, fit_intercept=True,\n",
              "                   intercept_scaling=1, l1_ratio=None, max_iter=100,\n",
              "                   multi_class='auto', n_jobs=None, penalty='l2',\n",
              "                   random_state=None, solver='lbfgs', tol=0.0001, verbose=0,\n",
              "                   warm_start=False)"
            ]
          },
          "metadata": {
            "tags": []
          },
          "execution_count": 195
        }
      ]
    },
    {
      "cell_type": "code",
      "metadata": {
        "id": "g0QoFNJRszPe"
      },
      "source": [
        "\r\n",
        "pred = lr.predict(X_test)\r\n",
        "pred1 = lr.predict(X_train)"
      ],
      "execution_count": null,
      "outputs": []
    },
    {
      "cell_type": "code",
      "metadata": {
        "id": "eGB38qfes6UE"
      },
      "source": [
        "from sklearn import metrics"
      ],
      "execution_count": null,
      "outputs": []
    },
    {
      "cell_type": "code",
      "metadata": {
        "colab": {
          "base_uri": "https://localhost:8080/"
        },
        "id": "ruCUBYzMs3aI",
        "outputId": "1e9c9f3e-e1b7-46ee-c88c-3ad5d21bc317"
      },
      "source": [
        "print (\"Accuracy of test set\",metrics.accuracy_score(y_test, pred)*100,\"%\")\r\n",
        "print (\"Accuracy of training set\",metrics.accuracy_score(y_train, pred1)*100,\"%\")"
      ],
      "execution_count": null,
      "outputs": [
        {
          "output_type": "stream",
          "text": [
            "Accuracy of test set 83.86388583973655 %\n",
            "Accuracy of training set 83.61565589408568 %\n"
          ],
          "name": "stdout"
        }
      ]
    },
    {
      "cell_type": "code",
      "metadata": {
        "colab": {
          "base_uri": "https://localhost:8080/"
        },
        "id": "2OozUUGizLcG",
        "outputId": "74087d46-6442-4699-9b87-037d51f808c6"
      },
      "source": [
        "y.value_counts()"
      ],
      "execution_count": null,
      "outputs": [
        {
          "output_type": "execute_result",
          "data": {
            "text/plain": [
              "popularity\n",
              "4             15231\n",
              "3              2166\n",
              "5               472\n",
              "1               323\n",
              "0                16\n",
              "dtype: int64"
            ]
          },
          "metadata": {
            "tags": []
          },
          "execution_count": 199
        }
      ]
    },
    {
      "cell_type": "code",
      "metadata": {
        "id": "QZvR-GLwzGgC"
      },
      "source": [
        "# class_weight=dict({4:0.60,0:0.90,3:0.85,5:0.9,1:0.9})"
      ],
      "execution_count": null,
      "outputs": []
    },
    {
      "cell_type": "code",
      "metadata": {
        "id": "_R7uKngM6B-i"
      },
      "source": [
        "# from imblearn.over_sampling import RandomOverSampler"
      ],
      "execution_count": null,
      "outputs": []
    },
    {
      "cell_type": "code",
      "metadata": {
        "id": "BOowJc0K6CJp"
      },
      "source": [
        "# params={\r\n",
        "#  \"learning_rate\"    : [0.05, 0.10, 0.15, 0.20, 0.25, 0.30 ] ,\r\n",
        "#  \"max_depth\"        : [ 3, 4, 5, 6, 8, 10, 12, 15],\r\n",
        "#  \"min_child_weight\" : [ 1, 3, 5, 7 ],\r\n",
        "#  \"gamma\"            : [ 0.0, 0.1, 0.2 , 0.3, 0.4 ],\r\n",
        "#  \"colsample_bytree\" : [ 0.3, 0.4, 0.5 , 0.7 ]\r\n",
        "    \r\n",
        "# }"
      ],
      "execution_count": null,
      "outputs": []
    },
    {
      "cell_type": "code",
      "metadata": {
        "id": "ShRea2LM6CTB"
      },
      "source": [
        "# from sklearn.model_selection import RandomizedSearchCV, GridSearchCV\r\n",
        "# import xgboost"
      ],
      "execution_count": null,
      "outputs": []
    },
    {
      "cell_type": "code",
      "metadata": {
        "id": "E0RJ4i-w6CcT"
      },
      "source": [
        "# def timer(start_time=None):\r\n",
        "#     if not start_time:\r\n",
        "#         start_time = datetime.now()\r\n",
        "#         return start_time\r\n",
        "#     elif start_time:\r\n",
        "#         thour, temp_sec = divmod((datetime.now() - start_time).total_seconds(), 3600)\r\n",
        "#         tmin, tsec = divmod(temp_sec, 60)\r\n",
        "#         print('\\n Time taken: %i hours %i minutes and %s seconds.' % (thour, tmin, round(tsec, 2)))"
      ],
      "execution_count": null,
      "outputs": []
    },
    {
      "cell_type": "code",
      "metadata": {
        "id": "j0GimUnr6Ckb"
      },
      "source": [
        "# classifier=xgboost.XGBClassifier()"
      ],
      "execution_count": null,
      "outputs": []
    },
    {
      "cell_type": "code",
      "metadata": {
        "id": "Fl0e_CvI6Cs3"
      },
      "source": [
        "# random_search=RandomizedSearchCV(classifier,param_distributions=params,n_iter=5,scoring='acc',n_jobs=-1,cv=5,verbose=3)"
      ],
      "execution_count": null,
      "outputs": []
    },
    {
      "cell_type": "code",
      "metadata": {
        "id": "_gMxSvM9_Z83"
      },
      "source": [
        ""
      ],
      "execution_count": null,
      "outputs": []
    },
    {
      "cell_type": "code",
      "metadata": {
        "id": "U5IKBX7P_aa_"
      },
      "source": [
        "parameters = {\r\n",
        "    \"n_estimators\":[5,10,50,100,250,500,1000,2000],\r\n",
        "    \"max_depth\":[2,4,8,16,32,None]\r\n",
        "    \r\n",
        "}"
      ],
      "execution_count": null,
      "outputs": []
    },
    {
      "cell_type": "code",
      "metadata": {
        "colab": {
          "background_save": true
        },
        "id": "8Y56wqPD_amy",
        "outputId": "79932dac-0f43-4f35-b705-bcbf8292304a"
      },
      "source": [
        "rfc = RandomForestClassifier()\r\n",
        "from sklearn.model_selection import GridSearchCV\r\n",
        "cv = GridSearchCV(rfc,parameters,cv=5)\r\n",
        "cv.fit(X_train,y_train.values.ravel())"
      ],
      "execution_count": null,
      "outputs": [
        {
          "output_type": "execute_result",
          "data": {
            "text/plain": [
              "GridSearchCV(cv=5, error_score=nan,\n",
              "             estimator=RandomForestClassifier(bootstrap=True, ccp_alpha=0.0,\n",
              "                                              class_weight=None,\n",
              "                                              criterion='gini', max_depth=None,\n",
              "                                              max_features='auto',\n",
              "                                              max_leaf_nodes=None,\n",
              "                                              max_samples=None,\n",
              "                                              min_impurity_decrease=0.0,\n",
              "                                              min_impurity_split=None,\n",
              "                                              min_samples_leaf=1,\n",
              "                                              min_samples_split=2,\n",
              "                                              min_weight_fraction_leaf=0.0,\n",
              "                                              n_estimators=100, n_jobs=None,\n",
              "                                              oob_score=False,\n",
              "                                              random_state=None, verbose=0,\n",
              "                                              warm_start=False),\n",
              "             iid='deprecated', n_jobs=None,\n",
              "             param_grid={'max_depth': [2, 4, 8, 16, 32, None],\n",
              "                         'n_estimators': [5, 10, 50, 100, 250, 500, 1000,\n",
              "                                          2000]},\n",
              "             pre_dispatch='2*n_jobs', refit=True, return_train_score=False,\n",
              "             scoring=None, verbose=0)"
            ]
          },
          "metadata": {
            "tags": []
          },
          "execution_count": 0
        }
      ]
    },
    {
      "cell_type": "code",
      "metadata": {
        "id": "tinY_JqY_awp"
      },
      "source": [
        ""
      ],
      "execution_count": null,
      "outputs": []
    },
    {
      "cell_type": "code",
      "metadata": {
        "id": "eOJu0pqU_a6K"
      },
      "source": [
        ""
      ],
      "execution_count": null,
      "outputs": []
    },
    {
      "cell_type": "code",
      "metadata": {
        "id": "0pirYzEH_bCt"
      },
      "source": [
        ""
      ],
      "execution_count": null,
      "outputs": []
    },
    {
      "cell_type": "code",
      "metadata": {
        "id": "GNHe42cYs4s2"
      },
      "source": [
        "from sklearn.ensemble import RandomForestClassifier\r\n",
        "clf = RandomForestClassifier(n_estimators = 1500, max_features = 'log2',class_weight=class_weight,verbose = 1,n_jobs = -1)"
      ],
      "execution_count": null,
      "outputs": []
    },
    {
      "cell_type": "code",
      "metadata": {
        "colab": {
          "base_uri": "https://localhost:8080/"
        },
        "id": "TlynKuHotB-a",
        "outputId": "2d03e992-69a1-4622-c2c0-5ca4557d9aa1"
      },
      "source": [
        "clf.fit(X_train, y_train)\r\n",
        "preds = clf.predict(X_test)"
      ],
      "execution_count": null,
      "outputs": [
        {
          "output_type": "stream",
          "text": [
            "[Parallel(n_jobs=-1)]: Using backend ThreadingBackend with 2 concurrent workers.\n",
            "[Parallel(n_jobs=-1)]: Done  46 tasks      | elapsed:    1.4s\n",
            "[Parallel(n_jobs=-1)]: Done 196 tasks      | elapsed:    6.0s\n",
            "[Parallel(n_jobs=-1)]: Done 446 tasks      | elapsed:   13.7s\n",
            "[Parallel(n_jobs=-1)]: Done 796 tasks      | elapsed:   24.5s\n",
            "[Parallel(n_jobs=-1)]: Done 1246 tasks      | elapsed:   38.3s\n",
            "[Parallel(n_jobs=-1)]: Done 1500 out of 1500 | elapsed:   46.1s finished\n",
            "[Parallel(n_jobs=2)]: Using backend ThreadingBackend with 2 concurrent workers.\n",
            "[Parallel(n_jobs=2)]: Done  46 tasks      | elapsed:    0.0s\n",
            "[Parallel(n_jobs=2)]: Done 196 tasks      | elapsed:    0.1s\n",
            "[Parallel(n_jobs=2)]: Done 446 tasks      | elapsed:    0.2s\n",
            "[Parallel(n_jobs=2)]: Done 796 tasks      | elapsed:    0.4s\n",
            "[Parallel(n_jobs=2)]: Done 1246 tasks      | elapsed:    0.6s\n",
            "[Parallel(n_jobs=2)]: Done 1500 out of 1500 | elapsed:    0.7s finished\n"
          ],
          "name": "stderr"
        }
      ]
    },
    {
      "cell_type": "code",
      "metadata": {
        "colab": {
          "base_uri": "https://localhost:8080/"
        },
        "id": "lQVJDtOutD_T",
        "outputId": "281dcf0b-608f-4513-fc12-717014895e14"
      },
      "source": [
        "preds = clf.predict(X_test)"
      ],
      "execution_count": null,
      "outputs": [
        {
          "output_type": "stream",
          "text": [
            "[Parallel(n_jobs=2)]: Using backend ThreadingBackend with 2 concurrent workers.\n",
            "[Parallel(n_jobs=2)]: Done  46 tasks      | elapsed:    0.0s\n",
            "[Parallel(n_jobs=2)]: Done 196 tasks      | elapsed:    0.1s\n",
            "[Parallel(n_jobs=2)]: Done 446 tasks      | elapsed:    0.2s\n",
            "[Parallel(n_jobs=2)]: Done 500 out of 500 | elapsed:    0.2s finished\n"
          ],
          "name": "stderr"
        }
      ]
    },
    {
      "cell_type": "code",
      "metadata": {
        "colab": {
          "base_uri": "https://localhost:8080/"
        },
        "id": "I86Nf5xHtJHq",
        "outputId": "14cbb7b5-bdb7-4610-c333-22fabbb15332"
      },
      "source": [
        "print (\"Accuracy of test set\",metrics.accuracy_score(y_test, preds)*100,\"%\")"
      ],
      "execution_count": null,
      "outputs": [
        {
          "output_type": "stream",
          "text": [
            "Accuracy of test set 89.13282107574094 %\n"
          ],
          "name": "stdout"
        }
      ]
    },
    {
      "cell_type": "code",
      "metadata": {
        "colab": {
          "base_uri": "https://localhost:8080/"
        },
        "id": "gc3jDhQutLcU",
        "outputId": "0a6ffadc-b75a-4b0c-8791-e64dc0313e5f"
      },
      "source": [
        "print(metrics.classification_report(y_test, preds))"
      ],
      "execution_count": null,
      "outputs": [
        {
          "output_type": "stream",
          "text": [
            "              precision    recall  f1-score   support\n",
            "\n",
            "           0       1.00      1.00      1.00         2\n",
            "           1       1.00      0.73      0.84        11\n",
            "           3       0.86      0.32      0.47       115\n",
            "           4       0.89      0.99      0.94       761\n",
            "           5       1.00      0.36      0.53        22\n",
            "\n",
            "    accuracy                           0.89       911\n",
            "   macro avg       0.95      0.68      0.76       911\n",
            "weighted avg       0.89      0.89      0.87       911\n",
            "\n"
          ],
          "name": "stdout"
        }
      ]
    },
    {
      "cell_type": "code",
      "metadata": {
        "colab": {
          "base_uri": "https://localhost:8080/"
        },
        "id": "oFKKrwRGtXJW",
        "outputId": "f020ab2a-32f1-4f81-805f-500d3bc7ee73"
      },
      "source": [
        "pred_log = clf.predict_proba(X_test)\r\n",
        "print (\"log loss of test set\",metrics.log_loss(y_test, pred_log))"
      ],
      "execution_count": null,
      "outputs": [
        {
          "output_type": "stream",
          "text": [
            "[Parallel(n_jobs=2)]: Using backend ThreadingBackend with 2 concurrent workers.\n",
            "[Parallel(n_jobs=2)]: Done  46 tasks      | elapsed:    0.0s\n",
            "[Parallel(n_jobs=2)]: Done 196 tasks      | elapsed:    0.1s\n",
            "[Parallel(n_jobs=2)]: Done 446 tasks      | elapsed:    0.2s\n",
            "[Parallel(n_jobs=2)]: Done 796 tasks      | elapsed:    0.4s\n",
            "[Parallel(n_jobs=2)]: Done 1246 tasks      | elapsed:    0.6s\n",
            "[Parallel(n_jobs=2)]: Done 1500 out of 1500 | elapsed:    0.7s finished\n"
          ],
          "name": "stderr"
        },
        {
          "output_type": "stream",
          "text": [
            "log loss of test set 0.3404426034593637\n"
          ],
          "name": "stdout"
        }
      ]
    },
    {
      "cell_type": "code",
      "metadata": {
        "id": "-wqw4glXtlXi"
      },
      "source": [
        "df = pd.read_csv(\"Test.csv\")"
      ],
      "execution_count": null,
      "outputs": []
    },
    {
      "cell_type": "code",
      "metadata": {
        "id": "wp4hQmJWtrcR"
      },
      "source": [
        "X = df"
      ],
      "execution_count": null,
      "outputs": []
    },
    {
      "cell_type": "code",
      "metadata": {
        "colab": {
          "base_uri": "https://localhost:8080/"
        },
        "id": "n_kmb8lrttu2",
        "outputId": "ed08b791-cfe8-4dbc-9955-5a96d9d3435f"
      },
      "source": [
        "X = scaler.transform(X)\r\n",
        "X"
      ],
      "execution_count": null,
      "outputs": [
        {
          "output_type": "execute_result",
          "data": {
            "text/plain": [
              "array([[1.64328657e-01, 9.93998704e-01, 9.09090909e-02, ...,\n",
              "        1.00100100e-05, 5.80798449e-01, 5.27758309e-02],\n",
              "       [5.87174349e-01, 6.35921359e-01, 3.63636364e-01, ...,\n",
              "        3.55355355e-01, 6.20557030e-01, 5.72113925e-02],\n",
              "       [4.57915832e-01, 7.42944476e-01, 0.00000000e+00, ...,\n",
              "        6.88688689e-01, 7.05058238e-01, 4.74188488e-02],\n",
              "       ...,\n",
              "       [5.73146293e-01, 8.51968025e-01, 5.45454545e-01, ...,\n",
              "        3.78378378e-01, 5.91572182e-01, 4.76102525e-02],\n",
              "       [7.62525050e-01, 5.24897378e-01, 1.00000000e+00, ...,\n",
              "        5.31531532e-01, 3.68091178e-01, 5.33869298e-02],\n",
              "       [3.41683367e-01, 1.96826515e-01, 8.18181818e-01, ...,\n",
              "        9.65965966e-01, 5.23925699e-01, 1.06164566e-02]])"
            ]
          },
          "metadata": {
            "tags": []
          },
          "execution_count": 179
        }
      ]
    },
    {
      "cell_type": "code",
      "metadata": {
        "colab": {
          "base_uri": "https://localhost:8080/"
        },
        "id": "0sXLwDMftxSK",
        "outputId": "e11ed9a0-91e7-49af-b09c-91ca09122454"
      },
      "source": [
        "pred_log = clf.predict_proba(X)"
      ],
      "execution_count": null,
      "outputs": [
        {
          "output_type": "stream",
          "text": [
            "[Parallel(n_jobs=2)]: Using backend ThreadingBackend with 2 concurrent workers.\n",
            "[Parallel(n_jobs=2)]: Done  46 tasks      | elapsed:    0.1s\n",
            "[Parallel(n_jobs=2)]: Done 196 tasks      | elapsed:    0.4s\n",
            "[Parallel(n_jobs=2)]: Done 446 tasks      | elapsed:    0.8s\n",
            "[Parallel(n_jobs=2)]: Done 796 tasks      | elapsed:    1.5s\n",
            "[Parallel(n_jobs=2)]: Done 1246 tasks      | elapsed:    2.3s\n",
            "[Parallel(n_jobs=2)]: Done 1500 out of 1500 | elapsed:    2.7s finished\n"
          ],
          "name": "stderr"
        }
      ]
    },
    {
      "cell_type": "code",
      "metadata": {
        "id": "havBBWsjGmgL"
      },
      "source": [
        "pred=np.clip(pred_log,0.025,0.975)"
      ],
      "execution_count": null,
      "outputs": []
    },
    {
      "cell_type": "code",
      "metadata": {
        "colab": {
          "base_uri": "https://localhost:8080/",
          "height": 402
        },
        "id": "TTCHE2olt1sZ",
        "outputId": "ba5b2bff-4dd6-41a5-e804-c66ae24a192c"
      },
      "source": [
        "prediction  = pd.DataFrame(pred,columns =['0','1','3','4','5'])\r\n",
        "prediction"
      ],
      "execution_count": null,
      "outputs": [
        {
          "output_type": "execute_result",
          "data": {
            "text/html": [
              "<div>\n",
              "<style scoped>\n",
              "    .dataframe tbody tr th:only-of-type {\n",
              "        vertical-align: middle;\n",
              "    }\n",
              "\n",
              "    .dataframe tbody tr th {\n",
              "        vertical-align: top;\n",
              "    }\n",
              "\n",
              "    .dataframe thead th {\n",
              "        text-align: right;\n",
              "    }\n",
              "</style>\n",
              "<table border=\"1\" class=\"dataframe\">\n",
              "  <thead>\n",
              "    <tr style=\"text-align: right;\">\n",
              "      <th></th>\n",
              "      <th>0</th>\n",
              "      <th>1</th>\n",
              "      <th>3</th>\n",
              "      <th>4</th>\n",
              "      <th>5</th>\n",
              "    </tr>\n",
              "  </thead>\n",
              "  <tbody>\n",
              "    <tr>\n",
              "      <th>0</th>\n",
              "      <td>0.025</td>\n",
              "      <td>0.092</td>\n",
              "      <td>0.302000</td>\n",
              "      <td>0.503333</td>\n",
              "      <td>0.102667</td>\n",
              "    </tr>\n",
              "    <tr>\n",
              "      <th>1</th>\n",
              "      <td>0.025</td>\n",
              "      <td>0.025</td>\n",
              "      <td>0.025000</td>\n",
              "      <td>0.970667</td>\n",
              "      <td>0.025000</td>\n",
              "    </tr>\n",
              "    <tr>\n",
              "      <th>2</th>\n",
              "      <td>0.025</td>\n",
              "      <td>0.025</td>\n",
              "      <td>0.029333</td>\n",
              "      <td>0.957333</td>\n",
              "      <td>0.025000</td>\n",
              "    </tr>\n",
              "    <tr>\n",
              "      <th>3</th>\n",
              "      <td>0.025</td>\n",
              "      <td>0.025</td>\n",
              "      <td>0.039333</td>\n",
              "      <td>0.944667</td>\n",
              "      <td>0.025000</td>\n",
              "    </tr>\n",
              "    <tr>\n",
              "      <th>4</th>\n",
              "      <td>0.025</td>\n",
              "      <td>0.025</td>\n",
              "      <td>0.025000</td>\n",
              "      <td>0.975000</td>\n",
              "      <td>0.025000</td>\n",
              "    </tr>\n",
              "    <tr>\n",
              "      <th>...</th>\n",
              "      <td>...</td>\n",
              "      <td>...</td>\n",
              "      <td>...</td>\n",
              "      <td>...</td>\n",
              "      <td>...</td>\n",
              "    </tr>\n",
              "    <tr>\n",
              "      <th>12135</th>\n",
              "      <td>0.025</td>\n",
              "      <td>0.025</td>\n",
              "      <td>0.098000</td>\n",
              "      <td>0.872667</td>\n",
              "      <td>0.025000</td>\n",
              "    </tr>\n",
              "    <tr>\n",
              "      <th>12136</th>\n",
              "      <td>0.025</td>\n",
              "      <td>0.025</td>\n",
              "      <td>0.025000</td>\n",
              "      <td>0.975000</td>\n",
              "      <td>0.025000</td>\n",
              "    </tr>\n",
              "    <tr>\n",
              "      <th>12137</th>\n",
              "      <td>0.025</td>\n",
              "      <td>0.025</td>\n",
              "      <td>0.025000</td>\n",
              "      <td>0.975000</td>\n",
              "      <td>0.025000</td>\n",
              "    </tr>\n",
              "    <tr>\n",
              "      <th>12138</th>\n",
              "      <td>0.025</td>\n",
              "      <td>0.025</td>\n",
              "      <td>0.025000</td>\n",
              "      <td>0.975000</td>\n",
              "      <td>0.025000</td>\n",
              "    </tr>\n",
              "    <tr>\n",
              "      <th>12139</th>\n",
              "      <td>0.025</td>\n",
              "      <td>0.078</td>\n",
              "      <td>0.289333</td>\n",
              "      <td>0.590000</td>\n",
              "      <td>0.042667</td>\n",
              "    </tr>\n",
              "  </tbody>\n",
              "</table>\n",
              "<p>12140 rows × 5 columns</p>\n",
              "</div>"
            ],
            "text/plain": [
              "           0      1         3         4         5\n",
              "0      0.025  0.092  0.302000  0.503333  0.102667\n",
              "1      0.025  0.025  0.025000  0.970667  0.025000\n",
              "2      0.025  0.025  0.029333  0.957333  0.025000\n",
              "3      0.025  0.025  0.039333  0.944667  0.025000\n",
              "4      0.025  0.025  0.025000  0.975000  0.025000\n",
              "...      ...    ...       ...       ...       ...\n",
              "12135  0.025  0.025  0.098000  0.872667  0.025000\n",
              "12136  0.025  0.025  0.025000  0.975000  0.025000\n",
              "12137  0.025  0.025  0.025000  0.975000  0.025000\n",
              "12138  0.025  0.025  0.025000  0.975000  0.025000\n",
              "12139  0.025  0.078  0.289333  0.590000  0.042667\n",
              "\n",
              "[12140 rows x 5 columns]"
            ]
          },
          "metadata": {
            "tags": []
          },
          "execution_count": 182
        }
      ]
    },
    {
      "cell_type": "code",
      "metadata": {
        "id": "ZUC0IrlOt4cJ"
      },
      "source": [
        "prediction.to_csv('result_MP3.csv',index=False)"
      ],
      "execution_count": null,
      "outputs": []
    },
    {
      "cell_type": "code",
      "metadata": {
        "id": "voi0-k2ht8xJ"
      },
      "source": [
        ""
      ],
      "execution_count": null,
      "outputs": []
    }
  ]
}